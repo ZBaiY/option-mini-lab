{
 "cells": [
  {
   "cell_type": "markdown",
   "id": "c755e100",
   "metadata": {},
   "source": [
    "Monte Carlo Greeks — Pathwise & Finite Difference\n",
    "\n",
    "- $\\Delta$ (Pathwise)\n",
    "\n",
    "\\begin{equation}\n",
    "\\Delta^{PW}\n",
    "= \\mathbb{E}\\left[ e^{-rT}, \\mathbf{1}_{{S_T > K}} ,\\frac{S_T}{S_0} \\right]\n",
    "\\end{equation}\n",
    "\n",
    "with\n",
    "$\\frac{\\partial S_T}{\\partial S_0} = \\frac{S_T}{S_0}.$\n",
    "\n",
    "\n",
    "- $\\nu$ (Pathwise) (in Finance, it is called \"vega\" not \"nu\")\n",
    "\n",
    "\\begin{equation}\n",
    "\\nu^{PW}\n",
    "= \\mathbb{E}\\left[ e^{-rT}, \\mathbf{1}_{{S_T > K}} , S_T\\left(-\\sigma T + \\sqrt{T},Z\\right) \\right]\n",
    "\\end{equation}\n",
    "\n",
    "since\n",
    "$\\frac{\\partial S_T}{\\partial \\sigma}\n",
    "= S_T\\left(-\\sigma T + \\sqrt{T}\\,Z\\right).$\n",
    "\n",
    "\n",
    "\n",
    "- $\\Gamma$ (Finite Difference)\n",
    "\n",
    "Payoff is not twice differentiable (contains a Dirac Delta, which is not easy to simulate), so use central finite difference -- which is a representation of the dirac delta function:\n",
    "\\begin{equation}\n",
    "\\Gamma^{FD}\n",
    "\\approx \\frac{ C(S_0(1+h)) - 2C(S_0) + C(S_0(1-h)) }{ (S_0 h)^2 }.\n",
    "\\end{equation}\n",
    "\n",
    "\n",
    "- $\\Theta$ (Pathwise, sketch)\n",
    "\n",
    "Two contributions: discount factor and $\\partial S_T / \\partial T$:\n",
    "\\begin{equation}\n",
    "\\Theta^{PW}\n",
    "= \\mathbb{E}\\Big[\n",
    "\\frac{\\partial}{\\partial T} \\Big( e^{-rT} (S_T - K)^+ \\Big)\n",
    "\\Big].\n",
    "\\end{equation}\n",
    "\n",
    "with\n",
    "$\\frac{\\partial S_T}{\\partial T}\n",
    "= S_T\\Big((r - \\tfrac{1}{2}\\sigma^2) + \\tfrac{\\sigma Z}{2\\sqrt{T}}\\Big).$\n",
    "\n",
    "\n",
    "- $\\rho$ (Pathwise, sketch)\n",
    "\n",
    "Again two contributions: discount factor and $\\partial S_T / \\partial r$:\n",
    "\\begin{equation}\n",
    "\\rho^{PW}\n",
    "= \\mathbb{E}\\Big[\n",
    "\\frac{\\partial}{\\partial r} \\Big( e^{-rT} (S_T - K)^+ \\Big)\n",
    "\\Big].\n",
    "\\end{equation}\n",
    "\n",
    "with $\\frac{\\partial S_T}{\\partial r} = S_T \\, T.$"
   ]
  },
  {
   "cell_type": "code",
   "execution_count": 1,
   "id": "85d955de",
   "metadata": {},
   "outputs": [],
   "source": [
    "import math\n",
    "import numpy as np\n",
    "import pandas as pd\n",
    "import matplotlib.pyplot as plt\n",
    "\n",
    "import sys, os\n",
    "project_root = os.path.abspath(os.path.join(os.getcwd(), '..'))\n",
    "sys.path.append(project_root)"
   ]
  },
  {
   "cell_type": "code",
   "execution_count": 2,
   "id": "c71a0bd0",
   "metadata": {},
   "outputs": [
    {
     "name": "stdout",
     "output_type": "stream",
     "text": [
      "/Users/zhaoyub/Documents/Tradings/option-mini-lab\n"
     ]
    },
    {
     "name": "stderr",
     "output_type": "stream",
     "text": [
      "/Users/zhaoyub/Library/Python/3.12/lib/python/site-packages/IPython/core/magics/osm.py:417: UserWarning: This is now an optional IPython functionality, setting dhist requires you to install the `pickleshare` library.\n",
      "  self.shell.db['dhist'] = compress_dhist(dhist)[-100:]\n"
     ]
    }
   ],
   "source": [
    "%cd $project_root"
   ]
  },
  {
   "cell_type": "code",
   "execution_count": 3,
   "id": "26ce3272",
   "metadata": {},
   "outputs": [],
   "source": [
    "%load_ext autoreload"
   ]
  },
  {
   "cell_type": "code",
   "execution_count": 4,
   "id": "006ff2d3",
   "metadata": {},
   "outputs": [],
   "source": [
    "from src import greeks\n",
    "SEED = 1234"
   ]
  },
  {
   "cell_type": "markdown",
   "id": "5500c568",
   "metadata": {},
   "source": [
    "# Greeks: Analytic vs Monte Carlo\n",
    "\n",
    "In this notebook we validate our Monte Carlo estimators of option Greeks\n",
    "(Delta, Gamma, Vega, Theta, Rho) against the analytic Black–Scholes Greeks.\n",
    "\n",
    "Steps:\n",
    "1. Define market parameters.\n",
    "2. Compute BS Greeks analytically.\n",
    "3. Estimate Greeks with Monte Carlo (pathwise, LR, finite-difference).\n",
    "4. Compare values and error bars."
   ]
  },
  {
   "cell_type": "code",
   "execution_count": 5,
   "id": "ede1312c",
   "metadata": {},
   "outputs": [],
   "source": [
    "# %% Parameters\n",
    "S0 = 100.0\n",
    "K = 100.0\n",
    "T = 1.0\n",
    "r = 0.05\n",
    "sigma = 0.2\n",
    "n_paths = 50_000"
   ]
  },
  {
   "cell_type": "code",
   "execution_count": 6,
   "id": "1ad1ccc1",
   "metadata": {},
   "outputs": [
    {
     "data": {
      "text/plain": [
       "{'Delta': 0.6368306511756191,\n",
       " 'Gamma': 0.018762017345846895,\n",
       " 'Vega': 37.52403469169379,\n",
       " 'Theta': -6.414027546438197,\n",
       " 'Rho': 53.232481545376345}"
      ]
     },
     "execution_count": 6,
     "metadata": {},
     "output_type": "execute_result"
    }
   ],
   "source": [
    "# %% Analytic Greeks\n",
    "delta_bs_call = greeks.bs_delta(S0, K, T, r, sigma, option=\"call\")\n",
    "gamma_bs = greeks.bs_gamma(S0, K, T, r, sigma)\n",
    "vega_bs = greeks.bs_vega(S0, K, T, r, sigma)\n",
    "theta_bs_call = greeks.bs_theta(S0, K, T, r, sigma, option=\"call\")\n",
    "rho_bs_call = greeks.bs_rho(S0, K, T, r, sigma, option=\"call\")\n",
    "\n",
    "analytic = {\n",
    "    \"Delta\": delta_bs_call,\n",
    "    \"Gamma\": gamma_bs,\n",
    "    \"Vega\": vega_bs,\n",
    "    \"Theta\": theta_bs_call,\n",
    "    \"Rho\": rho_bs_call,\n",
    "}\n",
    "analytic"
   ]
  },
  {
   "cell_type": "code",
   "execution_count": 7,
   "id": "25420b5b",
   "metadata": {},
   "outputs": [
    {
     "data": {
      "text/plain": [
       "{'Price': (10.455384636392168,\n",
       "  0.046492206024764886,\n",
       "  (10.364259912583629, 10.546509360200707)),\n",
       " 'Delta_pathwise': (0.6377750125620419,\n",
       "  0.0018218615442586465,\n",
       "  (0.634204163935295, 0.6413458611887889)),\n",
       " 'Delta_LR': (0.6362489341851044,\n",
       "  0.0046154869667400945,\n",
       "  (0.6272025797302938, 0.645295288639915)),\n",
       " 'Delta_FD': (0.6377889600734276,\n",
       "  0.0018216239258276362,\n",
       "  (0.6342185771788054, 0.6413593429680498)),\n",
       " 'Gamma_FD': (0.027086484361813656,\n",
       "  0.004324889433536086,\n",
       "  (0.01860970107208293, 0.035563267651544384)),\n",
       " 'Vega_pathwise': (37.508180849621006,\n",
       "  0.23889741903749817,\n",
       "  (37.03994190830751, 37.9764197909345)),\n",
       " 'Vega_FD': (37.50768082102095,\n",
       "  0.23889756164515488,\n",
       "  (37.03944160019645, 37.97592004184545))}"
      ]
     },
     "execution_count": 7,
     "metadata": {},
     "output_type": "execute_result"
    }
   ],
   "source": [
    "# %% Monte Carlo Greeks\n",
    "results_mc = {}\n",
    "\n",
    "# Price\n",
    "price_mc, se, ci = greeks.mc_price_euro_call(S0,K,T,r,sigma,n_paths,seed=SEED)\n",
    "results_mc[\"Price\"] = (price_mc, se, ci)\n",
    "\n",
    "# Delta\n",
    "delta_pw, se, ci = greeks.mc_delta_pathwise_call(S0,K,T,r,sigma,n_paths,seed=SEED)\n",
    "delta_lr, se_lr, ci_lr = greeks.mc_delta_LR_call(S0,K,T,r,sigma,n_paths,seed=SEED)\n",
    "delta_fd, se_fd, ci_fd = greeks.mc_delta_fd_central(S0,K,T,r,sigma,n_paths,seed=SEED)\n",
    "results_mc[\"Delta_pathwise\"] = (delta_pw, se, ci)\n",
    "results_mc[\"Delta_LR\"] = (delta_lr, se_lr, ci_lr)\n",
    "results_mc[\"Delta_FD\"] = (delta_fd, se_fd, ci_fd)\n",
    "\n",
    "# Gamma\n",
    "gamma_fd, se, ci = greeks.mc_gamma_fd_central(S0,K,T,r,sigma,n_paths,seed=SEED)\n",
    "results_mc[\"Gamma_FD\"] = (gamma_fd, se, ci)\n",
    "\n",
    "# Vega\n",
    "vega_pw, se, ci = greeks.mc_vega_pathwise_call(S0,K,T,r,sigma,n_paths,seed=SEED)\n",
    "vega_fd, se_fd, ci_fd = greeks.mc_vega_fd_central(S0,K,T,r,sigma,n_paths,seed=SEED)\n",
    "results_mc[\"Vega_pathwise\"] = (vega_pw, se, ci)\n",
    "results_mc[\"Vega_FD\"] = (vega_fd, se_fd, ci_fd)\n",
    "\n",
    "results_mc"
   ]
  },
  {
   "cell_type": "markdown",
   "id": "6c7e85d8",
   "metadata": {},
   "source": [
    "## Comparison Table\n",
    "Let's put analytic vs Monte Carlo side by side."
   ]
  },
  {
   "cell_type": "code",
   "execution_count": 8,
   "id": "0d6d5ced",
   "metadata": {},
   "outputs": [
    {
     "data": {
      "text/html": [
       "<div>\n",
       "<style scoped>\n",
       "    .dataframe tbody tr th:only-of-type {\n",
       "        vertical-align: middle;\n",
       "    }\n",
       "\n",
       "    .dataframe tbody tr th {\n",
       "        vertical-align: top;\n",
       "    }\n",
       "\n",
       "    .dataframe thead th {\n",
       "        text-align: right;\n",
       "    }\n",
       "</style>\n",
       "<table border=\"1\" class=\"dataframe\">\n",
       "  <thead>\n",
       "    <tr style=\"text-align: right;\">\n",
       "      <th></th>\n",
       "      <th>Analytic</th>\n",
       "      <th>MC estimators</th>\n",
       "    </tr>\n",
       "    <tr>\n",
       "      <th>Greek</th>\n",
       "      <th></th>\n",
       "      <th></th>\n",
       "    </tr>\n",
       "  </thead>\n",
       "  <tbody>\n",
       "    <tr>\n",
       "      <th>Delta</th>\n",
       "      <td>0.636831</td>\n",
       "      <td>0.637775</td>\n",
       "    </tr>\n",
       "    <tr>\n",
       "      <th>Gamma</th>\n",
       "      <td>0.018762</td>\n",
       "      <td>0.027086</td>\n",
       "    </tr>\n",
       "    <tr>\n",
       "      <th>Vega</th>\n",
       "      <td>37.524035</td>\n",
       "      <td>37.508181</td>\n",
       "    </tr>\n",
       "    <tr>\n",
       "      <th>Theta</th>\n",
       "      <td>-6.414028</td>\n",
       "      <td>not implemented in MC</td>\n",
       "    </tr>\n",
       "    <tr>\n",
       "      <th>Rho</th>\n",
       "      <td>53.232482</td>\n",
       "      <td>not implemented in MC</td>\n",
       "    </tr>\n",
       "  </tbody>\n",
       "</table>\n",
       "</div>"
      ],
      "text/plain": [
       "        Analytic          MC estimators\n",
       "Greek                                  \n",
       "Delta   0.636831               0.637775\n",
       "Gamma   0.018762               0.027086\n",
       "Vega   37.524035              37.508181\n",
       "Theta  -6.414028  not implemented in MC\n",
       "Rho    53.232482  not implemented in MC"
      ]
     },
     "execution_count": 8,
     "metadata": {},
     "output_type": "execute_result"
    }
   ],
   "source": [
    "import pandas as pd\n",
    "\n",
    "rows = []\n",
    "for greek, val in analytic.items():\n",
    "    rows.append({\n",
    "        \"Greek\": greek,\n",
    "        \"Analytic\": val,\n",
    "        \"MC estimators\": \"\"\n",
    "    })\n",
    "\n",
    "df = pd.DataFrame(rows).set_index(\"Greek\")\n",
    "\n",
    "df.loc[\"Delta\",\"MC estimators\"] = results_mc[\"Delta_pathwise\"][0]\n",
    "df.loc[\"Gamma\",\"MC estimators\"] = results_mc[\"Gamma_FD\"][0]\n",
    "df.loc[\"Vega\",\"MC estimators\"] = results_mc[\"Vega_pathwise\"][0]\n",
    "df.loc[\"Theta\",\"MC estimators\"] = \"not implemented in MC\"\n",
    "df.loc[\"Rho\",\"MC estimators\"] = \"not implemented in MC\"\n",
    "\n",
    "df"
   ]
  },
  {
   "cell_type": "markdown",
   "id": "abb4a808",
   "metadata": {},
   "source": [
    "## Convergence plots\n",
    "Check that MC estimators converge at rate ~ 1/sqrt(N)."
   ]
  },
  {
   "cell_type": "code",
   "execution_count": 9,
   "id": "fe39bd0e",
   "metadata": {},
   "outputs": [
    {
     "data": {
      "image/png": "[encoded data removed]",
      "text/plain": [
       "<Figure size 640x480 with 1 Axes>"
      ]
     },
     "metadata": {},
     "output_type": "display_data"
    },
    {
     "data": {
      "image/png": "[encoded data removed]",
      "text/plain": [
       "<Figure size 640x480 with 1 Axes>"
      ]
     },
     "metadata": {},
     "output_type": "display_data"
    }
   ],
   "source": [
    "import matplotlib.pyplot as plt\n",
    "\n",
    "def convergence_plot(estimator, label, Ns=[1000,2000,5000,10000,20000,50000]):\n",
    "    means = []\n",
    "    ses = []\n",
    "    for n in Ns:\n",
    "        est, se, ci = estimator(S0,K,T,r,sigma,n_paths=n,seed=SEED)\n",
    "        means.append(est)\n",
    "        ses.append(se)\n",
    "    plt.errorbar(Ns, means, yerr=ses, fmt=\"o-\", label=label)\n",
    "    plt.axhline(analytic[label], color=\"k\", linestyle=\"--\")\n",
    "    plt.xscale(\"log\")\n",
    "    plt.xlabel(\"N paths (log scale)\")\n",
    "    plt.ylabel(label)\n",
    "    plt.legend()\n",
    "    plt.show()\n",
    "\n",
    "convergence_plot(greeks.mc_delta_pathwise_call, \"Delta\")\n",
    "convergence_plot(greeks.mc_vega_pathwise_call, \"Vega\")"
   ]
  },
  {
   "cell_type": "markdown",
   "id": "df41c9ec",
   "metadata": {},
   "source": [
    "## Notes\n",
    "- Pathwise Delta and Vega match BS Greeks very well.\n",
    "- Gamma requires finite-difference approximation (delta distribution issue).\n",
    "- LR Delta works but has higher variance.\n",
    "- Finite-difference estimators are flexible but more expensive."
   ]
  },
  {
   "cell_type": "markdown",
   "id": "b42e9b36",
   "metadata": {},
   "source": [
    "## Now with Theta and Rho finite-difference MC estimators"
   ]
  },
  {
   "cell_type": "code",
   "execution_count": 13,
   "id": "ce23e7f8",
   "metadata": {},
   "outputs": [
    {
     "data": {
      "text/plain": [
       "(6.416931016943162,\n",
       " (6.362077937127785, 6.471784096758539),\n",
       " -6.414027546438197,\n",
       " 53.32351129451886,\n",
       " (53.03094597025619, 53.61607661878153),\n",
       " 53.232481545376345)"
      ]
     },
     "execution_count": 13,
     "metadata": {},
     "output_type": "execute_result"
    }
   ],
   "source": [
    "# %% MC Theta & Rho (finite-difference)\n",
    "theta_fd, se_theta, ci_theta = greeks.mc_theta_fd_central(S0,K,T,r,sigma,n_paths,seed=SEED)\n",
    "rho_fd,   se_rho,   ci_rho   = greeks.mc_rho_fd_central(S0,K,T,r,sigma,n_paths,seed=SEED)\n",
    "\n",
    "theta_bs_call = greeks.bs_theta(S0, K, T, r, sigma, option=\"call\")\n",
    "rho_bs_call   = greeks.bs_rho(S0, K, T, r, sigma, option=\"call\")\n",
    "\n",
    "theta_fd, ci_theta, theta_bs_call, rho_fd, ci_rho, rho_bs_call"
   ]
  },
  {
   "cell_type": "code",
   "execution_count": 14,
   "id": "284fc04a",
   "metadata": {},
   "outputs": [
    {
     "data": {
      "text/html": [
       "<div>\n",
       "<style scoped>\n",
       "    .dataframe tbody tr th:only-of-type {\n",
       "        vertical-align: middle;\n",
       "    }\n",
       "\n",
       "    .dataframe tbody tr th {\n",
       "        vertical-align: top;\n",
       "    }\n",
       "\n",
       "    .dataframe thead th {\n",
       "        text-align: right;\n",
       "    }\n",
       "</style>\n",
       "<table border=\"1\" class=\"dataframe\">\n",
       "  <thead>\n",
       "    <tr style=\"text-align: right;\">\n",
       "      <th></th>\n",
       "      <th>Analytic</th>\n",
       "      <th>MC estimators</th>\n",
       "    </tr>\n",
       "    <tr>\n",
       "      <th>Greek</th>\n",
       "      <th></th>\n",
       "      <th></th>\n",
       "    </tr>\n",
       "  </thead>\n",
       "  <tbody>\n",
       "    <tr>\n",
       "      <th>Delta</th>\n",
       "      <td>0.636831</td>\n",
       "      <td>0.637775</td>\n",
       "    </tr>\n",
       "    <tr>\n",
       "      <th>Gamma</th>\n",
       "      <td>0.018762</td>\n",
       "      <td>0.027086</td>\n",
       "    </tr>\n",
       "    <tr>\n",
       "      <th>Vega</th>\n",
       "      <td>37.524035</td>\n",
       "      <td>37.508181</td>\n",
       "    </tr>\n",
       "    <tr>\n",
       "      <th>Theta</th>\n",
       "      <td>-6.414028</td>\n",
       "      <td>6.416931</td>\n",
       "    </tr>\n",
       "    <tr>\n",
       "      <th>Rho</th>\n",
       "      <td>53.232482</td>\n",
       "      <td>53.323511</td>\n",
       "    </tr>\n",
       "  </tbody>\n",
       "</table>\n",
       "</div>"
      ],
      "text/plain": [
       "        Analytic MC estimators\n",
       "Greek                         \n",
       "Delta   0.636831      0.637775\n",
       "Gamma   0.018762      0.027086\n",
       "Vega   37.524035     37.508181\n",
       "Theta  -6.414028      6.416931\n",
       "Rho    53.232482     53.323511"
      ]
     },
     "execution_count": 14,
     "metadata": {},
     "output_type": "execute_result"
    }
   ],
   "source": [
    "df.loc[\"Theta\",\"MC estimators\"] = theta_fd\n",
    "df.loc[\"Rho\",\"MC estimators\"] = rho_fd\n",
    "df"
   ]
  },
  {
   "cell_type": "code",
   "execution_count": 17,
   "id": "282cd218",
   "metadata": {},
   "outputs": [
    {
     "data": {
      "image/png": "[encoded data removed]",
      "text/plain": [
       "<Figure size 640x480 with 1 Axes>"
      ]
     },
     "metadata": {},
     "output_type": "display_data"
    },
    {
     "data": {
      "image/png": "[encoded data removed]",
      "text/plain": [
       "<Figure size 640x480 with 1 Axes>"
      ]
     },
     "metadata": {},
     "output_type": "display_data"
    }
   ],
   "source": [
    "def convergence_plot_simple(estimator, true_value, label, Ns=[2000,5000,10000,20000,50000]):\n",
    "    means, ses = [], []\n",
    "    for n in Ns:\n",
    "        est, se, _ = estimator(S0,K,T,r,sigma,n_paths=n,seed=SEED)\n",
    "        means.append(est); ses.append(se)\n",
    "    import matplotlib.pyplot as plt\n",
    "    plt.errorbar(Ns, means, yerr=ses, fmt=\"o-\")\n",
    "    plt.axhline(true_value, linestyle=\"--\")\n",
    "    plt.xscale(\"log\"); plt.xlabel(\"N paths (log)\"); plt.ylabel(label); plt.title(label)\n",
    "    plt.show()\n",
    "\n",
    "convergence_plot_simple(greeks.mc_theta_fd_central, abs(theta_bs_call), \"Theta\")\n",
    "convergence_plot_simple(greeks.mc_rho_fd_central,   rho_bs_call,   \"Rho\")"
   ]
  },
  {
   "cell_type": "code",
   "execution_count": 18,
   "id": "899522cf",
   "metadata": {},
   "outputs": [
    {
     "name": "stdout",
     "output_type": "stream",
     "text": [
      "[NbConvertApp] Converting notebook notebooks/demo_greeks.ipynb to pdf\n",
      "[NbConvertApp] Support files will be in demo_greeks_files/\n",
      "[NbConvertApp] Making directory ./demo_greeks_files\n",
      "[NbConvertApp] Writing 46020 bytes to notebook.tex\n",
      "[NbConvertApp] Building PDF\n",
      "[NbConvertApp] Running xelatex 3 times: ['xelatex', 'notebook.tex', '-quiet']\n",
      "[NbConvertApp] Running bibtex 1 time: ['bibtex', 'notebook']\n",
      "[NbConvertApp] WARNING | bibtex had problems, most likely because there were no citations\n",
      "[NbConvertApp] PDF successfully created\n",
      "[NbConvertApp] Writing 133665 bytes to notebooks/demo_greeks.pdf\n"
     ]
    }
   ],
   "source": [
    "! jupyter nbconvert --to pdf notebooks/demo_greeks.ipynb"
   ]
  },
  {
   "cell_type": "code",
   "execution_count": null,
   "id": "819d0192",
   "metadata": {},
   "outputs": [],
   "source": []
  }
 ],
 "metadata": {
  "kernelspec": {
   "display_name": "Python 3",
   "language": "python",
   "name": "python3"
  },
  "language_info": {
   "codemirror_mode": {
    "name": "ipython",
    "version": 3
   },
   "file_extension": ".py",
   "mimetype": "text/x-python",
   "name": "python",
   "nbconvert_exporter": "python",
   "pygments_lexer": "ipython3",
   "version": "3.12.3"
  }
 },
 "nbformat": 4,
 "nbformat_minor": 5
}
